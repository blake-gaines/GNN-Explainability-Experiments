{
 "cells": [
  {
   "cell_type": "code",
   "execution_count": 13,
   "metadata": {},
   "outputs": [],
   "source": [
    "import torch\n",
    "from torch_geometric.datasets import TUDataset\n",
    "import torch\n",
    "import torch.nn.functional as F\n",
    "from torch_geometric.data import Data, Batch\n",
    "from torch_geometric.logging import init_wandb, log\n",
    "from torch_geometric.nn import GATConv, GCNConv\n",
    "from torch_geometric.utils import to_dense_adj, dense_to_sparse\n",
    "from torch.autograd import Variable"
   ]
  },
  {
   "cell_type": "code",
   "execution_count": 14,
   "metadata": {},
   "outputs": [],
   "source": [
    "dataset = TUDataset(root='data/TUDataset', name='MUTAG')"
   ]
  },
  {
   "cell_type": "code",
   "execution_count": 15,
   "metadata": {},
   "outputs": [
    {
     "name": "stdout",
     "output_type": "stream",
     "text": [
      "\n",
      "Dataset: MUTAG(188):\n",
      "====================\n",
      "Number of graphs: 188\n",
      "Number of features: 7\n",
      "Number of classes: 2\n",
      "\n",
      "Data(edge_index=[2, 38], x=[17, 7], edge_attr=[38, 4], y=[1])\n",
      "=============================================================\n",
      "Number of nodes: 17\n",
      "Number of edges: 38\n",
      "Average node degree: 2.24\n",
      "Has isolated nodes: False\n",
      "Has self-loops: False\n",
      "Is undirected: True\n"
     ]
    }
   ],
   "source": [
    "print()\n",
    "print(f'Dataset: {dataset}:')\n",
    "print('====================')\n",
    "print(f'Number of graphs: {len(dataset)}')\n",
    "print(f'Number of features: {dataset.num_features}')\n",
    "print(f'Number of classes: {dataset.num_classes}')\n",
    "\n",
    "data = dataset[0]  # Get the first graph object.\n",
    "\n",
    "print()\n",
    "print(data)\n",
    "print('=============================================================')\n",
    "\n",
    "# Gather some statistics about the first graph.\n",
    "print(f'Number of nodes: {data.num_nodes}')\n",
    "print(f'Number of edges: {data.num_edges}')\n",
    "print(f'Average node degree: {data.num_edges / data.num_nodes:.2f}')\n",
    "print(f'Has isolated nodes: {data.has_isolated_nodes()}')\n",
    "print(f'Has self-loops: {data.has_self_loops()}')\n",
    "print(f'Is undirected: {data.is_undirected()}')"
   ]
  },
  {
   "cell_type": "code",
   "execution_count": 16,
   "metadata": {},
   "outputs": [
    {
     "name": "stdout",
     "output_type": "stream",
     "text": [
      "Number of training graphs: 150\n",
      "Number of test graphs: 38\n"
     ]
    }
   ],
   "source": [
    "torch.manual_seed(12345)\n",
    "dataset = dataset.shuffle()\n",
    "\n",
    "train_dataset = dataset[:150]\n",
    "test_dataset = dataset[150:]\n",
    "print(f'Number of training graphs: {len(train_dataset)}')\n",
    "print(f'Number of test graphs: {len(test_dataset)}')"
   ]
  },
  {
   "cell_type": "code",
   "execution_count": 17,
   "metadata": {},
   "outputs": [],
   "source": [
    "from torch_geometric.loader import DataLoader\n",
    "\n",
    "train_loader = DataLoader(train_dataset, batch_size=64, shuffle=True)\n",
    "test_loader = DataLoader(test_dataset, batch_size=64, shuffle=False)"
   ]
  },
  {
   "cell_type": "code",
   "execution_count": 18,
   "metadata": {},
   "outputs": [],
   "source": [
    "from torch.nn import Linear\n",
    "import torch.nn.functional as F\n",
    "from torch_geometric.nn import GCNConv\n",
    "from torch_geometric.nn import global_mean_pool\n",
    "\n",
    "\n",
    "class GCN(torch.nn.Module):\n",
    "    def __init__(self, hidden_channels):\n",
    "        super(GCN, self).__init__()\n",
    "        torch.manual_seed(12345)\n",
    "        self.conv1 = GCNConv(dataset.num_node_features, hidden_channels)\n",
    "        self.conv2 = GCNConv(hidden_channels, hidden_channels)\n",
    "        self.conv3 = GCNConv(hidden_channels, hidden_channels)\n",
    "        self.lin = Linear(hidden_channels, dataset.num_classes)\n",
    "\n",
    "    def get_embedding_outputs(self, data):\n",
    "        x, edge_index, batch = data.x, data.edge_index, data.batch\n",
    "        \n",
    "        # 1. Obtain node embeddings \n",
    "        x = self.conv1(x, edge_index)\n",
    "        x = x.relu()\n",
    "        x = self.conv2(x, edge_index)\n",
    "        x = x.relu()\n",
    "        x = self.conv3(x, edge_index)\n",
    "\n",
    "        # 2. Readout layer\n",
    "        embedding = global_mean_pool(x, batch)  # [batch_size, hidden_channels]\n",
    "\n",
    "        # 3. Apply a final classifier\n",
    "        x = F.dropout(embedding, p=0.5, training=self.training)\n",
    "        x = self.lin(x)\n",
    "        return embedding, x \n",
    "\n",
    "    def forward(self, x, edge_index, batch):\n",
    "        # 1. Obtain node embeddings \n",
    "        x = self.conv1(x, edge_index)\n",
    "        x = x.relu()\n",
    "        x = self.conv2(x, edge_index)\n",
    "        x = x.relu()\n",
    "        x = self.conv3(x, edge_index)\n",
    "\n",
    "        # 2. Readout layer\n",
    "        x = global_mean_pool(x, batch)  # [batch_size, hidden_channels]\n",
    "\n",
    "        # 3. Apply a final classifier\n",
    "        x = F.dropout(x, p=0.5, training=self.training)\n",
    "        x = self.lin(x)\n",
    "        \n",
    "        return x"
   ]
  },
  {
   "cell_type": "code",
   "execution_count": 19,
   "metadata": {},
   "outputs": [
    {
     "name": "stdout",
     "output_type": "stream",
     "text": [
      "GCN(\n",
      "  (conv1): GCNConv(7, 64)\n",
      "  (conv2): GCNConv(64, 64)\n",
      "  (conv3): GCNConv(64, 64)\n",
      "  (lin): Linear(in_features=64, out_features=2, bias=True)\n",
      ")\n"
     ]
    }
   ],
   "source": [
    "model = GCN(hidden_channels=64)\n",
    "optimizer = torch.optim.Adam(model.parameters(), lr=0.01)\n",
    "criterion = torch.nn.CrossEntropyLoss()\n",
    "print(model)"
   ]
  },
  {
   "cell_type": "code",
   "execution_count": 20,
   "metadata": {},
   "outputs": [],
   "source": [
    "def train():\n",
    "    model.train()\n",
    "\n",
    "    for data in train_loader:  # Iterate in batches over the training dataset.\n",
    "         out = model(data.x, data.edge_index, data.batch)  # Perform a single forward pass.\n",
    "         loss = criterion(out, data.y)  # Compute the loss.\n",
    "         loss.backward()  # Derive gradients.\n",
    "         optimizer.step()  # Update parameters based on gradients.\n",
    "         optimizer.zero_grad()  # Clear gradients.\n",
    "\n",
    "def test(loader):\n",
    "     model.eval()\n",
    "\n",
    "     correct = 0\n",
    "     for data in loader:  # Iterate in batches over the training/test dataset.\n",
    "         out = model(data.x, data.edge_index, data.batch)  \n",
    "         pred = out.argmax(dim=1)  # Use the class with highest probability.\n",
    "         correct += int((pred == data.y).sum())  # Check against ground-truth labels.\n",
    "     return correct / len(loader.dataset)  # Derive ratio of correct predictions.\n"
   ]
  },
  {
   "cell_type": "code",
   "execution_count": 21,
   "metadata": {},
   "outputs": [
    {
     "name": "stdout",
     "output_type": "stream",
     "text": [
      "Epoch: 001, Train Acc: 0.6467, Test Acc: 0.7368\n",
      "Epoch: 002, Train Acc: 0.6467, Test Acc: 0.7368\n",
      "Epoch: 003, Train Acc: 0.6467, Test Acc: 0.7368\n",
      "Epoch: 004, Train Acc: 0.6467, Test Acc: 0.7368\n"
     ]
    }
   ],
   "source": [
    "for epoch in range(1, 5):\n",
    "    train()\n",
    "    train_acc = test(train_loader)\n",
    "    test_acc = test(test_loader)\n",
    "    print(f'Epoch: {epoch:03d}, Train Acc: {train_acc:.4f}, Test Acc: {test_acc:.4f}')"
   ]
  },
  {
   "cell_type": "code",
   "execution_count": 22,
   "metadata": {},
   "outputs": [],
   "source": [
    "class ProbGraph:\n",
    "    def __init__(self, data):\n",
    "        self.has_edge_attributes = data.edge_attr is not None \n",
    "        self.has_node_attributes = data.x is not None\n",
    "        self.Omega = Variable(torch.Tensor(to_dense_adj(data.edge_index)), requires_grad=True)\n",
    "        self.params = [self.Omega]\n",
    "        if self.has_edge_attributes: \n",
    "            self.H = Variable(torch.Tensor(data.edge_attr), requires_grad=True)\n",
    "            self.params.append(self.H)\n",
    "        if self.has_node_attributes: \n",
    "            self.Xi = Variable(torch.Tensor(data.x), requires_grad=True)\n",
    "            self.params.append(self.Xi)\n",
    "\n",
    "    def parameters(self):\n",
    "        return self.params\n",
    "\n",
    "    def sample_train(self, K, tau_a, tau_z, tau_x):\n",
    "        sampled_graphs = []\n",
    "        for _ in range(K):\n",
    "            sampled_graph = dict()\n",
    "            a_epsilon = torch.rand(self.Omega.shape)\n",
    "            a = torch.sigmoid((self.Omega + torch.log(a_epsilon)-torch.log(1-a_epsilon))/tau_a)\n",
    "            # print([type(a[i]) for i in range(a.shape[0])])\n",
    "            # print([type(dense_to_sparse(a[i])) for i in range(a.shape[0])])\n",
    "            sampled_graph[\"edge_index\"] = dense_to_sparse(a)[0]\n",
    "\n",
    "            if self.has_edge_attributes:\n",
    "                z_epsilon = torch.rand(self.H.shape)\n",
    "                z = torch.softmax((self.H - torch.log(-torch.log(z_epsilon)))/tau_z, 0) # UNFINISHED: DOUBLE CHECK DIMENSION\n",
    "                sampled_graph[\"edge_attr\"] = z\n",
    "            \n",
    "            if self.has_node_attributes:\n",
    "                x_epsilon = torch.rand(self.Xi.shape)\n",
    "                x = torch.softmax((self.Xi - torch.log(-torch.log(x_epsilon)))/tau_x, 0) # UNFINISHED: DOUBLE CHECK DIMENSION\n",
    "                sampled_graph[\"x\"] = x\n",
    "\n",
    "            sampled_graphs.append(Data(**sampled_graph))\n",
    "\n",
    "        return Batch.from_data_list(sampled_graphs)\n",
    "    \n",
    "    def sample_explanation(self):\n",
    "        # Sigma = torch.sigmoid(self.Omega)\n",
    "        # P = torch.nn.Softmax(self.Xi)\n",
    "        # Q = torch.nn.Softmax(self.H)\n",
    "        raise NotImplementedError\n",
    "\n",
    "class GNNInterpreter():\n",
    "    def __init__(self, get_embedding_outputs, train_loader):\n",
    "        super().__init__()\n",
    "\n",
    "        self.tau_a = 5\n",
    "        self.tau_z = 5\n",
    "        self.tau_x = 5\n",
    "        self.mu = 1\n",
    "\n",
    "        self.K = 10 # Monte Carlo # Samples\n",
    "\n",
    "        self.get_embedding_outputs = get_embedding_outputs\n",
    "\n",
    "        self.average_phi = self.get_average_phi(train_loader).detach()\n",
    "\n",
    "    def get_average_phi(self, dataset):\n",
    "        dataloader = DataLoader(train_dataset, batch_size=1)\n",
    "        embedding_sum = None\n",
    "        n_instances = torch.zeros(dataset.num_classes)\n",
    "        for batch in dataloader:\n",
    "            embeddings = self.get_embedding_outputs(batch)[0]\n",
    "            if embedding_sum is None: \n",
    "                embedding_sum = torch.zeros(dataset.num_classes, embeddings.shape[-1]) # UNFINISHED: Ensure Correct Dimension\n",
    "            embedding_sum[batch.y] += embeddings\n",
    "            n_instances[batch.y] += train_loader.batch_size\n",
    "        # print(embedding_sum.shape, torch.unsqueeze(n_instances, 0).shape)\n",
    "        return embedding_sum / torch.unsqueeze(n_instances, 1)\n",
    "\n",
    "    def regularizer(self):\n",
    "        return 0\n",
    "\n",
    "    def train(self, init_graph, class_index, max_iter=1000):\n",
    "\n",
    "        pg = ProbGraph(init_graph)\n",
    "\n",
    "        optimizer = torch.optim.SGD(pg.parameters(), lr=0.001, momentum=0.9)\n",
    "\n",
    "        for _ in range(max_iter):\n",
    "            optimizer.zero_grad()\n",
    "\n",
    "            sampled_graphs = pg.sample_train(self.K, self.tau_a, self.tau_z, self.tau_x)\n",
    "\n",
    "            embeddings, outputs = self.get_embedding_outputs(sampled_graphs)\n",
    "\n",
    "            class_probabilities = outputs[:, class_index]\n",
    "            embedding_similarities = F.cosine_similarity(embeddings, self.average_phi[class_index], dim=-1) # UNFINISHED: Check Dimension\n",
    "            loss = torch.mean(class_probabilities+self.mu*embedding_similarities) + self.regularizer()\n",
    "\n",
    "            loss.backward()\n",
    "            optimizer.step()\n",
    "\n",
    "        return pg\n"
   ]
  },
  {
   "cell_type": "code",
   "execution_count": 23,
   "metadata": {},
   "outputs": [],
   "source": [
    "# for data in train_loader:\n",
    "#     print(data.x.shape, data.edge_index.shape, data.batch.shape)\n",
    "#     print(dir(data))\n",
    "    # model.get_embedding_outputs(batch)\n",
    "#     break"
   ]
  },
  {
   "cell_type": "code",
   "execution_count": 24,
   "metadata": {},
   "outputs": [
    {
     "data": {
      "text/plain": [
       "<__main__.ProbGraph at 0x7ff73f5cee90>"
      ]
     },
     "execution_count": 24,
     "metadata": {},
     "output_type": "execute_result"
    }
   ],
   "source": [
    "model.eval()\n",
    "i = GNNInterpreter(model.get_embedding_outputs, train_dataset)\n",
    "\n",
    "i.train(dataset[0], 0)"
   ]
  }
 ],
 "metadata": {
  "kernelspec": {
   "display_name": "gl",
   "language": "python",
   "name": "python3"
  },
  "language_info": {
   "codemirror_mode": {
    "name": "ipython",
    "version": 3
   },
   "file_extension": ".py",
   "mimetype": "text/x-python",
   "name": "python",
   "nbconvert_exporter": "python",
   "pygments_lexer": "ipython3",
   "version": "3.10.9"
  },
  "orig_nbformat": 4,
  "vscode": {
   "interpreter": {
    "hash": "f6c76c8599d6caefb3efba69f3834283aad49dbd36e97c57d7158c54a7c66918"
   }
  }
 },
 "nbformat": 4,
 "nbformat_minor": 2
}
