{
 "cells": [
  {
   "cell_type": "code",
   "execution_count": 127,
   "metadata": {},
   "outputs": [],
   "source": [
    "import torch\n",
    "from torch_geometric.datasets import TUDataset\n",
    "import torch\n",
    "import torch.nn.functional as F\n",
    "from torch_geometric.data import Data, Batch\n",
    "from torch_geometric.logging import init_wandb, log\n",
    "from torch_geometric.nn import GATConv, GCNConv\n",
    "from torch_geometric.utils import to_dense_adj, dense_to_sparse\n",
    "from torch.autograd import Variable\n",
    "from tqdm import tqdm_notebook as tqdm"
   ]
  },
  {
   "cell_type": "code",
   "execution_count": 128,
   "metadata": {},
   "outputs": [],
   "source": [
    "dataset = TUDataset(root='data/TUDataset', name='MUTAG')"
   ]
  },
  {
   "cell_type": "code",
   "execution_count": 129,
   "metadata": {},
   "outputs": [
    {
     "name": "stdout",
     "output_type": "stream",
     "text": [
      "\n",
      "Dataset: MUTAG(188):\n",
      "====================\n",
      "Number of graphs: 188\n",
      "Number of features: 7\n",
      "Number of classes: 2\n",
      "\n",
      "Data(edge_index=[2, 38], x=[17, 7], edge_attr=[38, 4], y=[1])\n",
      "=============================================================\n",
      "Number of nodes: 17\n",
      "Number of edges: 38\n",
      "Average node degree: 2.24\n",
      "Has isolated nodes: False\n",
      "Has self-loops: False\n",
      "Is undirected: True\n"
     ]
    }
   ],
   "source": [
    "print()\n",
    "print(f'Dataset: {dataset}:')\n",
    "print('====================')\n",
    "print(f'Number of graphs: {len(dataset)}')\n",
    "print(f'Number of features: {dataset.num_features}')\n",
    "print(f'Number of classes: {dataset.num_classes}')\n",
    "\n",
    "data = dataset[0]  # Get the first graph object.\n",
    "\n",
    "print()\n",
    "print(data)\n",
    "print('=============================================================')\n",
    "\n",
    "# Gather some statistics about the first graph.\n",
    "print(f'Number of nodes: {data.num_nodes}')\n",
    "print(f'Number of edges: {data.num_edges}')\n",
    "print(f'Average node degree: {data.num_edges / data.num_nodes:.2f}')\n",
    "print(f'Has isolated nodes: {data.has_isolated_nodes()}')\n",
    "print(f'Has self-loops: {data.has_self_loops()}')\n",
    "print(f'Is undirected: {data.is_undirected()}')"
   ]
  },
  {
   "cell_type": "code",
   "execution_count": 130,
   "metadata": {},
   "outputs": [
    {
     "name": "stdout",
     "output_type": "stream",
     "text": [
      "Number of training graphs: 150\n",
      "Number of test graphs: 38\n"
     ]
    }
   ],
   "source": [
    "torch.manual_seed(12345)\n",
    "dataset = dataset.shuffle()\n",
    "\n",
    "train_dataset = dataset[:150]\n",
    "test_dataset = dataset[150:]\n",
    "print(f'Number of training graphs: {len(train_dataset)}')\n",
    "print(f'Number of test graphs: {len(test_dataset)}')"
   ]
  },
  {
   "cell_type": "code",
   "execution_count": 131,
   "metadata": {},
   "outputs": [],
   "source": [
    "from torch_geometric.loader import DataLoader\n",
    "\n",
    "train_loader = DataLoader(train_dataset, batch_size=64, shuffle=True)\n",
    "test_loader = DataLoader(test_dataset, batch_size=64, shuffle=False)"
   ]
  },
  {
   "cell_type": "code",
   "execution_count": 132,
   "metadata": {},
   "outputs": [],
   "source": [
    "from torch.nn import Linear\n",
    "import torch.nn.functional as F\n",
    "from torch_geometric.nn import GCNConv\n",
    "# from torch_geometric.nn.dense import DenseGCNConv\n",
    "from torch_geometric.nn import global_mean_pool\n",
    "\n",
    "\n",
    "class GCN(torch.nn.Module):\n",
    "    def __init__(self, hidden_channels):\n",
    "        super(GCN, self).__init__()\n",
    "        torch.manual_seed(12345)\n",
    "        self.conv1 = GCNConv(dataset.num_node_features, hidden_channels)\n",
    "        self.conv2 = GCNConv(hidden_channels, hidden_channels)\n",
    "        self.conv3 = GCNConv(hidden_channels, hidden_channels)\n",
    "        self.lin = Linear(hidden_channels, dataset.num_classes)\n",
    "\n",
    "    def get_embedding_outputs(self, data):\n",
    "        x, edge_index, edge_weight, batch = data.x, data.edge_index, data.edge_weight, data.batch\n",
    "        \n",
    "        # 1. Obtain node embeddings \n",
    "        x = self.conv1(x, edge_index, edge_weight)\n",
    "        x = x.relu()\n",
    "        x = self.conv2(x, edge_index, edge_weight)\n",
    "        x = x.relu()\n",
    "        x = self.conv3(x, edge_index, edge_weight)\n",
    "\n",
    "        # 2. Readout layer\n",
    "        embedding = global_mean_pool(x, batch)  # [batch_size, hidden_channels]\n",
    "\n",
    "        # 3. Apply a final classifier\n",
    "        x = F.dropout(embedding, p=0.5, training=self.training)\n",
    "        x = self.lin(x)\n",
    "        \n",
    "        return embedding, x\n",
    "\n",
    "    def forward(self, x, edge_index, batch, edge_weight=None):\n",
    "        if edge_weight is None: edge_weight = torch.ones(edge_index.shape[1])\n",
    "        \n",
    "        # 1. Obtain node embeddings \n",
    "        x = self.conv1(x, edge_index, edge_weight)\n",
    "        x = x.relu()\n",
    "        x = self.conv2(x, edge_index, edge_weight)\n",
    "        x = x.relu()\n",
    "        x = self.conv3(x, edge_index, edge_weight)\n",
    "\n",
    "        # 2. Readout layer\n",
    "        x = global_mean_pool(x, batch)  # [batch_size, hidden_channels]\n",
    "\n",
    "        # 3. Apply a final classifier\n",
    "        x = F.dropout(x, p=0.5, training=self.training)\n",
    "        x = self.lin(x)\n",
    "        \n",
    "        return x"
   ]
  },
  {
   "cell_type": "code",
   "execution_count": 133,
   "metadata": {},
   "outputs": [
    {
     "name": "stdout",
     "output_type": "stream",
     "text": [
      "GCN(\n",
      "  (conv1): GCNConv(7, 64)\n",
      "  (conv2): GCNConv(64, 64)\n",
      "  (conv3): GCNConv(64, 64)\n",
      "  (lin): Linear(in_features=64, out_features=2, bias=True)\n",
      ")\n"
     ]
    }
   ],
   "source": [
    "model = GCN(hidden_channels=64)\n",
    "optimizer = torch.optim.Adam(model.parameters(), lr=0.01)\n",
    "criterion = torch.nn.CrossEntropyLoss()\n",
    "print(model)"
   ]
  },
  {
   "cell_type": "code",
   "execution_count": 134,
   "metadata": {},
   "outputs": [],
   "source": [
    "def train():\n",
    "    model.train()\n",
    "\n",
    "    for data in train_loader:  # Iterate in batches over the training dataset.\n",
    "         out = model(data.x, data.edge_index, data.batch)  # Perform a single forward pass.\n",
    "         loss = criterion(out, data.y)  # Compute the loss.\n",
    "         loss.backward()  # Derive gradients.\n",
    "         optimizer.step()  # Update parameters based on gradients.\n",
    "         optimizer.zero_grad()  # Clear gradients.\n",
    "\n",
    "def test(loader):\n",
    "     model.eval()\n",
    "\n",
    "     correct = 0\n",
    "     for data in loader:  # Iterate in batches over the training/test dataset.\n",
    "         out = model(data.x, data.edge_index, data.batch)  \n",
    "         pred = out.argmax(dim=1)  # Use the class with highest probability.\n",
    "         correct += int((pred == data.y).sum())  # Check against ground-truth labels.\n",
    "     return correct / len(loader.dataset)  # Derive ratio of correct predictions.\n"
   ]
  },
  {
   "cell_type": "code",
   "execution_count": 135,
   "metadata": {},
   "outputs": [
    {
     "name": "stdout",
     "output_type": "stream",
     "text": [
      "Epoch: 001, Train Acc: 0.6467, Test Acc: 0.7368\n",
      "Epoch: 002, Train Acc: 0.6467, Test Acc: 0.7368\n",
      "Epoch: 003, Train Acc: 0.6467, Test Acc: 0.7368\n",
      "Epoch: 004, Train Acc: 0.6467, Test Acc: 0.7368\n",
      "Epoch: 005, Train Acc: 0.6467, Test Acc: 0.7368\n",
      "Epoch: 006, Train Acc: 0.6533, Test Acc: 0.7368\n",
      "Epoch: 007, Train Acc: 0.7467, Test Acc: 0.7632\n",
      "Epoch: 008, Train Acc: 0.7267, Test Acc: 0.7632\n",
      "Epoch: 009, Train Acc: 0.7200, Test Acc: 0.7632\n",
      "Epoch: 010, Train Acc: 0.7133, Test Acc: 0.7895\n",
      "Epoch: 011, Train Acc: 0.7200, Test Acc: 0.7632\n",
      "Epoch: 012, Train Acc: 0.7200, Test Acc: 0.7895\n",
      "Epoch: 013, Train Acc: 0.7200, Test Acc: 0.7895\n",
      "Epoch: 014, Train Acc: 0.7133, Test Acc: 0.8421\n",
      "Epoch: 015, Train Acc: 0.7133, Test Acc: 0.8421\n",
      "Epoch: 016, Train Acc: 0.7533, Test Acc: 0.7368\n",
      "Epoch: 017, Train Acc: 0.7400, Test Acc: 0.7632\n",
      "Epoch: 018, Train Acc: 0.7133, Test Acc: 0.8421\n",
      "Epoch: 019, Train Acc: 0.7400, Test Acc: 0.7895\n"
     ]
    }
   ],
   "source": [
    "for epoch in range(1, 20):\n",
    "    train()\n",
    "    train_acc = test(train_loader)\n",
    "    test_acc = test(test_loader)\n",
    "    print(f'Epoch: {epoch:03d}, Train Acc: {train_acc:.4f}, Test Acc: {test_acc:.4f}')"
   ]
  },
  {
   "cell_type": "code",
   "execution_count": 136,
   "metadata": {},
   "outputs": [],
   "source": [
    "from torchviz import make_dot\n",
    "\n",
    "class ProbGraph:\n",
    "    def __init__(self, data):\n",
    "        self.has_edge_attributes = data.edge_attr is not None \n",
    "        self.has_node_attributes = data.x is not None\n",
    "        # self.Omega = Variable(torch.Tensor(to_dense_adj(data.edge_index)), requires_grad=True)\n",
    "        self.Omega = Variable(torch.Tensor(0*torch.ones((data.x.shape[0], data.x.shape[0]))), requires_grad=True)\n",
    "        self.params = {\"Omega\": self.Omega}\n",
    "        if self.has_edge_attributes: \n",
    "            # self.H = Variable(torch.Tensor(data.edge_attr), requires_grad=True)\n",
    "            self.H = Variable(torch.Tensor(0*torch.ones(data.edge_attr.shape)), requires_grad=True)\n",
    "            self.params[\"H\"] = self.H\n",
    "        if self.has_node_attributes: \n",
    "            # self.Xi = Variable(torch.Tensor(data.x), requires_grad=True)\n",
    "            self.Xi = Variable(torch.Tensor(0*torch.ones(data.x.shape)), requires_grad=True)\n",
    "            self.params[\"Xi\"] = self.Xi\n",
    "\n",
    "    def parameters(self):\n",
    "        return self.params\n",
    "\n",
    "    def sample_train(self, K, tau_a, tau_z, tau_x):\n",
    "        sampled_graphs = []\n",
    "        for _ in range(K):\n",
    "            sampled_graph = dict()\n",
    "            a_epsilon = torch.rand(self.Omega.shape)\n",
    "            a = torch.sigmoid((self.Omega + torch.log(a_epsilon)-torch.log(1-a_epsilon))/tau_a)\n",
    "            sampled_graph[\"edge_index\"], sampled_graph[\"edge_weight\"] = dense_to_sparse(a)\n",
    "\n",
    "            if self.has_edge_attributes:\n",
    "                z_epsilon = torch.rand(self.H.shape)\n",
    "                z = torch.softmax((self.H - torch.log(-torch.log(z_epsilon)))/tau_z, 1)\n",
    "                sampled_graph[\"edge_attr\"] = z\n",
    "            \n",
    "            if self.has_node_attributes:\n",
    "                x_epsilon = torch.rand(self.Xi.shape)\n",
    "                x = torch.softmax((self.Xi - torch.log(-torch.log(x_epsilon)))/tau_x, 1) \n",
    "                sampled_graph[\"x\"] = x\n",
    "\n",
    "            sampled_graphs.append(Data(**sampled_graph))\n",
    "\n",
    "        return Batch.from_data_list(sampled_graphs)\n",
    "    \n",
    "    def get_latents(self):\n",
    "        latent_dict = {\"Theta\": torch.sigmoid(self.Omega)}\n",
    "        if self.has_node_attributes:\n",
    "            latent_dict[\"P\"] = torch.softmax(self.Xi, 1)\n",
    "        if self.has_edge_attributes:\n",
    "            latent_dict[\"Q\"] = torch.softmax(self.H, 1)\n",
    "        return latent_dict\n",
    "    \n",
    "    def sample_explanations(self, n=1):\n",
    "        latent_dict = self.get_latents()\n",
    "\n",
    "        A_dist = torch.distributions.Bernoulli(latent_dict[\"Theta\"])\n",
    "        if self.has_node_attributes:\n",
    "            X_dist = torch.distributions.Categorical(latent_dict[\"P\"])\n",
    "        if self.has_edge_attributes:\n",
    "            Z_dist = torch.distributions.Categorical(latent_dict[\"Q\"])\n",
    "\n",
    "        sampled_graphs = []\n",
    "        for _ in range(n):\n",
    "            sampled_graph = dict()\n",
    "            sampled_graph[\"edge_index\"], sampled_graph[\"edge_weight\"] = dense_to_sparse(A_dist.sample().float())\n",
    "            if self.has_node_attributes:\n",
    "                sampled_graph[\"x\"] = F.one_hot(X_dist.sample(), num_classes=self.Xi.shape[1]).float()\n",
    "            if self.has_edge_attributes:\n",
    "                sampled_graph[\"edge_attr\"] = F.one_hot(Z_dist.sample(), num_classes=self.H.shape[1]).float()\n",
    "            sampled_graphs.append(Data(**sampled_graph))\n",
    "\n",
    "        return Batch.from_data_list(sampled_graphs)\n",
    "\n",
    "class GNNInterpreter():\n",
    "    def __init__(self, get_embedding_outputs, train_dataset):\n",
    "        super().__init__()\n",
    "\n",
    "        self.tau_a = 0.2\n",
    "        self.tau_z = 0.2\n",
    "        self.tau_x = 0.2\n",
    "        self.mu = 0 #10\n",
    "\n",
    "        self.K = 10 # Monte Carlo # Samples\n",
    "        self.B = 20 # Max Budget\n",
    "\n",
    "        self.reg_weights = {\n",
    "            \"Omega L1\": [10, 5],\n",
    "            \"Omega L2\": [5, 2],\n",
    "            \"Budget Penalty\": [20, 10],\n",
    "            \"Connectivity Incentive\": [1,2],\n",
    "        }\n",
    "\n",
    "        self.get_embedding_outputs = get_embedding_outputs\n",
    "\n",
    "        self.average_phi = self.get_average_phi(train_dataset).detach()\n",
    "\n",
    "    def get_average_phi(self, dataset):\n",
    "        dataloader = DataLoader(train_dataset, batch_size=1)\n",
    "        embedding_sum = None\n",
    "        n_instances = torch.zeros(dataset.num_classes)\n",
    "        for batch in dataloader:\n",
    "            embeddings = self.get_embedding_outputs(batch)[0]\n",
    "            if embedding_sum is None: \n",
    "                embedding_sum = torch.zeros(dataset.num_classes, embeddings.shape[-1])\n",
    "            embedding_sum[batch.y] += torch.sum(embeddings, dim=0)\n",
    "            n_instances[batch.y] += dataloader.batch_size\n",
    "        return embedding_sum / torch.unsqueeze(n_instances, 1)\n",
    "    \n",
    "    def bernoulli_kl(self, p1, p2):\n",
    "        return p1*torch.log(p1/p2) + (1-p1)*torch.log((1-p1)/(1-p2))\n",
    "\n",
    "    def regularizer(self, pg, class_index):\n",
    "        r = dict()\n",
    "\n",
    "        r[\"Omega L1\"] = torch.norm(pg.Omega, 1) * self.reg_weights[\"Omega L1\"][class_index]\n",
    "        r[\"Omega L2\"] = torch.norm(pg.Omega, 2) * self.reg_weights[\"Omega L2\"][class_index]\n",
    "\n",
    "        r[\"Budget Penalty\"] = F.softplus(torch.sigmoid(r[\"Omega L1\"])-self.B)**2 * self.reg_weights[\"Omega L1\"][class_index] * (self.iteration/500)\n",
    "\n",
    "        Theta = torch.sigmoid(pg.Omega).squeeze()\n",
    "        connectivity_incentive = 0\n",
    "        for i in range(pg.Omega.shape[0]):\n",
    "            for j in range(pg.Omega.shape[0]):\n",
    "                Pij = Theta[i][j]\n",
    "                for k in range(pg.Omega.shape[0]):\n",
    "                    Pik = Theta[i][k]\n",
    "                    connectivity_incentive += self.bernoulli_kl(Pij, Pik)\n",
    "        r[\"Connectivity Incentive\"] = connectivity_incentive * self.reg_weights[\"Connectivity Incentive\"][class_index]\n",
    "\n",
    "        # print(r)\n",
    "\n",
    "        # return sum(self.reg_weights[key][class_index] * r[key] for key in r.keys())\n",
    "        return sum(r.values())\n",
    "\n",
    "    def train(self, init_graph, class_index, max_iter=1000):\n",
    "        pg = ProbGraph(init_graph)\n",
    "        self.pg = pg\n",
    "\n",
    "        optimizer = torch.optim.SGD(pg.parameters().values(), lr=1) # , momentum=0.9\n",
    "\n",
    "        self.pbar = tqdm(range(max_iter))\n",
    "\n",
    "        for self.iteration in self.pbar:\n",
    "            optimizer.zero_grad()\n",
    "\n",
    "            sampled_graphs = pg.sample_train(self.K, self.tau_a, self.tau_z, self.tau_x)\n",
    "            # print(sampled_graphs.get_example(0).requires_grad_())\n",
    "\n",
    "            embeddings, outputs = self.get_embedding_outputs(sampled_graphs)\n",
    "\n",
    "            class_logits = outputs[:, class_index]\n",
    "            embedding_similarities = F.cosine_similarity(embeddings, self.average_phi[class_index], dim=1)\n",
    "            regularization = self.regularizer(pg, class_index)\n",
    "            # mean_error = torch.mean(class_logits)\n",
    "            mean_error = torch.mean(class_logits+self.mu*embedding_similarities)\n",
    "            loss = mean_error + regularization\n",
    "\n",
    "            # if self.iteration == 0:\n",
    "            #     all_params = pg.parameters()\n",
    "            #     all_params.update(model.named_parameters())\n",
    "            #     self.computation_graph = make_dot(loss, all_params)#, show_attrs=True, show_saved=True)\n",
    "\n",
    "            # print(f\"Loss: {float(loss)}    ({mean_error:.2} Error, {regularization:.2f} Regularization)\")\n",
    "            # print(loss, mean_error, regularization)\n",
    "            self.pbar.set_postfix_str(f\"Loss: {float(loss):.2f}    ({mean_error:.2f} Error, {regularization:.2f} Regularization)\")\n",
    "\n",
    "            loss.backward()\n",
    "            # torch.nn.utils.clip_grad_norm_(pg.parameters().values(), 100)\n",
    "            optimizer.step()\n",
    "            \n",
    "            # explanation_graph = pg.sample_explanations(3)\n",
    "            # print(\"Example Output:\\n\", torch.softmax(self.get_embedding_outputs(explanation_graph)[1], dim=1))\n",
    "            # print(self.get_embedding_outputs(explanation_graph)[1])\n",
    "\n",
    "        return pg"
   ]
  },
  {
   "cell_type": "code",
   "execution_count": 137,
   "metadata": {},
   "outputs": [
    {
     "data": {
      "text/plain": [
       "tensor([[ 0.2811, -0.4655]], grad_fn=<AddmmBackward0>)"
      ]
     },
     "execution_count": 137,
     "metadata": {},
     "output_type": "execute_result"
    }
   ],
   "source": [
    "# torch.softmax(model.get_embedding_outputs(Batch.from_data_list([dataset[1]]))[1], dim=1)\n",
    "model.get_embedding_outputs(Batch.from_data_list([dataset[1]]))[1]"
   ]
  },
  {
   "cell_type": "code",
   "execution_count": 138,
   "metadata": {},
   "outputs": [
    {
     "name": "stdout",
     "output_type": "stream",
     "text": [
      "tensor([1])\n"
     ]
    }
   ],
   "source": [
    "print(dataset[0].y)"
   ]
  },
  {
   "cell_type": "code",
   "execution_count": 139,
   "metadata": {},
   "outputs": [],
   "source": [
    "# i.average_phi.shape"
   ]
  },
  {
   "cell_type": "code",
   "execution_count": 140,
   "metadata": {},
   "outputs": [
    {
     "name": "stderr",
     "output_type": "stream",
     "text": [
      "/tmp/ipykernel_1992/4048464207.py:143: TqdmDeprecationWarning: This function will be removed in tqdm==5.0.0\n",
      "Please use `tqdm.notebook.tqdm` instead of `tqdm.tqdm_notebook`\n",
      "  self.pbar = tqdm(range(max_iter))\n"
     ]
    },
    {
     "data": {
      "application/vnd.jupyter.widget-view+json": {
       "model_id": "30824d258da54ae88093f54ecfe7539e",
       "version_major": 2,
       "version_minor": 0
      },
      "text/plain": [
       "  0%|          | 0/1000 [00:00<?, ?it/s]"
      ]
     },
     "metadata": {},
     "output_type": "display_data"
    }
   ],
   "source": [
    "i = GNNInterpreter(model.get_embedding_outputs, train_dataset)\n",
    "\n",
    "pg = i.train(dataset[0], 0)\n",
    "# pg.sample_explanations()\n",
    "# i.computation_graph"
   ]
  }
 ],
 "metadata": {
  "kernelspec": {
   "display_name": "gl",
   "language": "python",
   "name": "python3"
  },
  "language_info": {
   "codemirror_mode": {
    "name": "ipython",
    "version": 3
   },
   "file_extension": ".py",
   "mimetype": "text/x-python",
   "name": "python",
   "nbconvert_exporter": "python",
   "pygments_lexer": "ipython3",
   "version": "3.10.9"
  },
  "orig_nbformat": 4,
  "vscode": {
   "interpreter": {
    "hash": "f6c76c8599d6caefb3efba69f3834283aad49dbd36e97c57d7158c54a7c66918"
   }
  }
 },
 "nbformat": 4,
 "nbformat_minor": 2
}
